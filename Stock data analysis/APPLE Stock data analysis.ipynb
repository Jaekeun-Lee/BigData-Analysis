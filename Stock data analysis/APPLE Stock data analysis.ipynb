{
 "cells": [
  {
   "cell_type": "code",
   "execution_count": 1,
   "metadata": {},
   "outputs": [],
   "source": [
    "import findspark"
   ]
  },
  {
   "cell_type": "code",
   "execution_count": 2,
   "metadata": {},
   "outputs": [],
   "source": [
    "findspark.init('C:\\spark-2.4.5-bin-hadoop2.7')"
   ]
  },
  {
   "cell_type": "code",
   "execution_count": 3,
   "metadata": {},
   "outputs": [],
   "source": [
    "from pyspark.sql import SparkSession"
   ]
  },
  {
   "cell_type": "code",
   "execution_count": 4,
   "metadata": {},
   "outputs": [],
   "source": [
    "spark = SparkSession.builder.appName('Apple').getOrCreate()"
   ]
  },
  {
   "cell_type": "code",
   "execution_count": 5,
   "metadata": {},
   "outputs": [],
   "source": [
    "df = spark.read.csv('APPLE.csv',header=True, inferSchema=True)"
   ]
  },
  {
   "cell_type": "code",
   "execution_count": 6,
   "metadata": {},
   "outputs": [
    {
     "data": {
      "text/plain": [
       "['Date', 'Open', 'High', 'Low', 'Close', 'Adj Close', 'Volume']"
      ]
     },
     "execution_count": 6,
     "metadata": {},
     "output_type": "execute_result"
    }
   ],
   "source": [
    "df.columns"
   ]
  },
  {
   "cell_type": "code",
   "execution_count": 7,
   "metadata": {},
   "outputs": [
    {
     "name": "stdout",
     "output_type": "stream",
     "text": [
      "root\n",
      " |-- Date: timestamp (nullable = true)\n",
      " |-- Open: double (nullable = true)\n",
      " |-- High: double (nullable = true)\n",
      " |-- Low: double (nullable = true)\n",
      " |-- Close: double (nullable = true)\n",
      " |-- Adj Close: double (nullable = true)\n",
      " |-- Volume: integer (nullable = true)\n",
      "\n"
     ]
    }
   ],
   "source": [
    "df.printSchema()"
   ]
  },
  {
   "cell_type": "code",
   "execution_count": 8,
   "metadata": {},
   "outputs": [
    {
     "name": "stdout",
     "output_type": "stream",
     "text": [
      "Row(Date=datetime.datetime(2018, 6, 25, 0, 0), Open=183.399994, High=184.919998, Low=180.729996, Close=182.169998, Adj Close=179.438583, Volume=31663100)\n",
      "\n",
      "\n",
      "Row(Date=datetime.datetime(2018, 6, 26, 0, 0), Open=182.990005, High=186.529999, Low=182.539993, Close=184.429993, Adj Close=181.664673, Volume=24569200)\n",
      "\n",
      "\n",
      "Row(Date=datetime.datetime(2018, 6, 27, 0, 0), Open=185.229996, High=187.279999, Low=184.029999, Close=184.160004, Adj Close=181.398743, Volume=25285300)\n",
      "\n",
      "\n",
      "Row(Date=datetime.datetime(2018, 6, 28, 0, 0), Open=184.100006, High=186.210007, Low=183.800003, Close=185.5, Adj Close=182.718643, Volume=17365200)\n",
      "\n",
      "\n",
      "Row(Date=datetime.datetime(2018, 6, 29, 0, 0), Open=186.289993, High=187.190002, Low=182.910004, Close=185.110001, Adj Close=182.334488, Volume=22737700)\n",
      "\n",
      "\n"
     ]
    }
   ],
   "source": [
    "for row in df.head(5):\n",
    "    print(row)\n",
    "    print('\\n')"
   ]
  },
  {
   "cell_type": "code",
   "execution_count": 9,
   "metadata": {},
   "outputs": [
    {
     "name": "stdout",
     "output_type": "stream",
     "text": [
      "+-------+------------------+------------------+------------------+------------------+------------------+--------------------+\n",
      "|summary|              Open|              High|               Low|             Close|         Adj Close|              Volume|\n",
      "+-------+------------------+------------------+------------------+------------------+------------------+--------------------+\n",
      "|  count|               251|               251|               251|               251|               251|                 251|\n",
      "|   mean|191.49438253784857|193.52362575697214| 189.5791630956174|191.61525922709157|190.09001068525902|3.2500690836653385E7|\n",
      "| stddev|21.549357988573007| 21.70621169057461|21.458889559650753|21.568176963850892|21.109922267991323|1.3925256820087591E7|\n",
      "|    min|        143.979996|        145.720001|             142.0|        142.190002|        141.039642|            12513900|\n",
      "|    max|        230.779999|        233.470001|        229.779999|        232.070007|         229.39209|            96246700|\n",
      "+-------+------------------+------------------+------------------+------------------+------------------+--------------------+\n",
      "\n"
     ]
    }
   ],
   "source": [
    "df.describe().show()"
   ]
  },
  {
   "cell_type": "code",
   "execution_count": 10,
   "metadata": {},
   "outputs": [],
   "source": [
    "from pyspark.sql.functions import format_number"
   ]
  },
  {
   "cell_type": "code",
   "execution_count": 11,
   "metadata": {},
   "outputs": [],
   "source": [
    "result = df.describe()"
   ]
  },
  {
   "cell_type": "code",
   "execution_count": 12,
   "metadata": {},
   "outputs": [
    {
     "name": "stdout",
     "output_type": "stream",
     "text": [
      "+-------+------+------+------+------+--------+\n",
      "|summary|  Open|  High|   Low| Close|  Volume|\n",
      "+-------+------+------+------+------+--------+\n",
      "|  count|251.00|251.00|251.00|251.00|     251|\n",
      "|   mean|191.49|193.52|189.58|191.62|    null|\n",
      "| stddev| 21.55| 21.71| 21.46| 21.57|    null|\n",
      "|    min|143.98|145.72|142.00|142.19|12513900|\n",
      "|    max|230.78|233.47|229.78|232.07|96246700|\n",
      "+-------+------+------+------+------+--------+\n",
      "\n"
     ]
    }
   ],
   "source": [
    "result.select(result['summary'], \n",
    "              format_number(result['Open'].cast('float'),2).alias('Open'),\n",
    "              format_number(result['High'].cast('float'),2).alias('High'),\n",
    "              format_number(result['Low'].cast('float'),2).alias('Low'),\n",
    "              format_number(result['Close'].cast('float'),2).alias('Close'),\n",
    "              result['Volume'].cast('int').alias('Volume')).show()"
   ]
  },
  {
   "cell_type": "code",
   "execution_count": 13,
   "metadata": {},
   "outputs": [],
   "source": [
    "df2 = df.withColumn(\"HV ration\", df['High']/df['Volume'])"
   ]
  },
  {
   "cell_type": "code",
   "execution_count": 14,
   "metadata": {},
   "outputs": [
    {
     "name": "stdout",
     "output_type": "stream",
     "text": [
      "+--------------------+\n",
      "|           HV ration|\n",
      "+--------------------+\n",
      "|5.840236679289141E-6|\n",
      "|7.592025747684092E-6|\n",
      "|7.406674985070377E-6|\n",
      "|1.072317088199387...|\n",
      "|8.232582978929268E-6|\n",
      "| 1.05632414430978E-5|\n",
      "|1.346848374752773...|\n",
      "|1.122667782850122...|\n",
      "|1.077654204698831E-5|\n",
      "|9.651457892552362E-6|\n",
      "|1.200067751629640...|\n",
      "|1.007779513049942...|\n",
      "|1.060966371230135...|\n",
      "|1.533015255036399...|\n",
      "|1.280653548803105...|\n",
      "|1.235121793427532...|\n",
      "|1.169983060255956...|\n",
      "|9.491393566259834E-6|\n",
      "| 9.30683554037976E-6|\n",
      "|1.200545405080866E-5|\n",
      "+--------------------+\n",
      "only showing top 20 rows\n",
      "\n"
     ]
    }
   ],
   "source": [
    "df2.select('HV ration').show()"
   ]
  },
  {
   "cell_type": "code",
   "execution_count": 15,
   "metadata": {},
   "outputs": [
    {
     "data": {
      "text/plain": [
       "datetime.datetime(2018, 10, 3, 0, 0)"
      ]
     },
     "execution_count": 15,
     "metadata": {},
     "output_type": "execute_result"
    }
   ],
   "source": [
    "df.orderBy(df['High'].desc()).head(1)[0][0]"
   ]
  },
  {
   "cell_type": "code",
   "execution_count": 16,
   "metadata": {},
   "outputs": [],
   "source": [
    "from pyspark.sql.functions import mean"
   ]
  },
  {
   "cell_type": "code",
   "execution_count": 17,
   "metadata": {},
   "outputs": [
    {
     "name": "stdout",
     "output_type": "stream",
     "text": [
      "+------------------+\n",
      "|        avg(Close)|\n",
      "+------------------+\n",
      "|191.61525922709157|\n",
      "+------------------+\n",
      "\n"
     ]
    }
   ],
   "source": [
    "df.select(mean('Close')).show()"
   ]
  },
  {
   "cell_type": "code",
   "execution_count": 18,
   "metadata": {},
   "outputs": [],
   "source": [
    "from pyspark.sql.functions import max,min"
   ]
  },
  {
   "cell_type": "code",
   "execution_count": 19,
   "metadata": {},
   "outputs": [
    {
     "name": "stdout",
     "output_type": "stream",
     "text": [
      "+-----------+-----------+\n",
      "|max(Volume)|min(Volume)|\n",
      "+-----------+-----------+\n",
      "|   96246700|   12513900|\n",
      "+-----------+-----------+\n",
      "\n"
     ]
    }
   ],
   "source": [
    "df.select(max('Volume'),min('Volume')).show()"
   ]
  },
  {
   "cell_type": "code",
   "execution_count": 20,
   "metadata": {},
   "outputs": [],
   "source": [
    "from pyspark.sql.functions import corr"
   ]
  },
  {
   "cell_type": "code",
   "execution_count": 21,
   "metadata": {},
   "outputs": [
    {
     "name": "stdout",
     "output_type": "stream",
     "text": [
      "+--------------------+\n",
      "|  corr(High, Volume)|\n",
      "+--------------------+\n",
      "|-0.09397261622724815|\n",
      "+--------------------+\n",
      "\n"
     ]
    }
   ],
   "source": [
    "df.select(corr('High','Volume')).show()"
   ]
  },
  {
   "cell_type": "code",
   "execution_count": 22,
   "metadata": {},
   "outputs": [],
   "source": [
    "from pyspark.sql.functions import year"
   ]
  },
  {
   "cell_type": "code",
   "execution_count": 23,
   "metadata": {},
   "outputs": [],
   "source": [
    "yeardf = df.withColumn('Year',year(df['Date']))"
   ]
  },
  {
   "cell_type": "code",
   "execution_count": 24,
   "metadata": {},
   "outputs": [],
   "source": [
    "max_df = yeardf.groupBy('Year').max()"
   ]
  },
  {
   "cell_type": "code",
   "execution_count": 25,
   "metadata": {},
   "outputs": [
    {
     "name": "stdout",
     "output_type": "stream",
     "text": [
      "+----+----------+\n",
      "|Year| max(High)|\n",
      "+----+----------+\n",
      "|2018|233.470001|\n",
      "|2019|215.309998|\n",
      "+----+----------+\n",
      "\n"
     ]
    }
   ],
   "source": [
    "max_df.select('Year', 'max(High)').show()"
   ]
  },
  {
   "cell_type": "code",
   "execution_count": 26,
   "metadata": {},
   "outputs": [],
   "source": [
    "from pyspark.sql.functions import month"
   ]
  },
  {
   "cell_type": "code",
   "execution_count": 27,
   "metadata": {},
   "outputs": [],
   "source": [
    "monthdf = df.withColumn('Month', month('Date'))"
   ]
  },
  {
   "cell_type": "code",
   "execution_count": 28,
   "metadata": {},
   "outputs": [],
   "source": [
    "monthavga = monthdf.select('Month','Close').groupBy('Month').mean()"
   ]
  },
  {
   "cell_type": "code",
   "execution_count": 29,
   "metadata": {},
   "outputs": [
    {
     "name": "stdout",
     "output_type": "stream",
     "text": [
      "+-----+------------------+\n",
      "|Month|        avg(Close)|\n",
      "+-----+------------------+\n",
      "|    1|         154.16619|\n",
      "|    2| 171.7278932631579|\n",
      "|    3|183.29381014285713|\n",
      "|    4|200.51619104761903|\n",
      "|    5|191.27363659090906|\n",
      "|    6| 189.8914279047619|\n",
      "|    7|190.31142904761901|\n",
      "|    8|213.34608852173915|\n",
      "|    9| 222.0736854210526|\n",
      "|   10|220.84565204347825|\n",
      "|   11|191.23571409523808|\n",
      "|   12|164.26631715789475|\n",
      "+-----+------------------+\n",
      "\n"
     ]
    }
   ],
   "source": [
    "monthavga.select('Month','avg(Close)').orderBy('Month').show()"
   ]
  },
  {
   "cell_type": "code",
   "execution_count": 30,
   "metadata": {},
   "outputs": [],
   "source": [
    "import pandas as pd"
   ]
  },
  {
   "cell_type": "code",
   "execution_count": 31,
   "metadata": {},
   "outputs": [],
   "source": [
    "import matplotlib.pyplot as plt"
   ]
  },
  {
   "cell_type": "code",
   "execution_count": 32,
   "metadata": {},
   "outputs": [],
   "source": [
    "apple = pd.read_csv(\"APPLE.csv\")"
   ]
  },
  {
   "cell_type": "code",
   "execution_count": 33,
   "metadata": {},
   "outputs": [
    {
     "name": "stdout",
     "output_type": "stream",
     "text": [
      "         Date        Open        High         Low       Close   Adj Close  \\\n",
      "0  2018-06-25  183.399994  184.919998  180.729996  182.169998  179.438583   \n",
      "1  2018-06-26  182.990005  186.529999  182.539993  184.429993  181.664673   \n",
      "2  2018-06-27  185.229996  187.279999  184.029999  184.160004  181.398743   \n",
      "3  2018-06-28  184.100006  186.210007  183.800003  185.500000  182.718643   \n",
      "4  2018-06-29  186.289993  187.190002  182.910004  185.110001  182.334488   \n",
      "\n",
      "     Volume  \n",
      "0  31663100  \n",
      "1  24569200  \n",
      "2  25285300  \n",
      "3  17365200  \n",
      "4  22737700  \n"
     ]
    }
   ],
   "source": [
    "print(apple.head())"
   ]
  },
  {
   "cell_type": "code",
   "execution_count": 34,
   "metadata": {},
   "outputs": [],
   "source": [
    "# 열 이름 변경하기\n",
    "apple.rename(columns={'Adj Close':'AdjClose'}, inplace=True)"
   ]
  },
  {
   "cell_type": "code",
   "execution_count": 35,
   "metadata": {},
   "outputs": [
    {
     "name": "stdout",
     "output_type": "stream",
     "text": [
      "                  Open        High         Low       Close    AdjClose  \\\n",
      "Date                                                                     \n",
      "2018-06-25  183.399994  184.919998  180.729996  182.169998  179.438583   \n",
      "2018-06-26  182.990005  186.529999  182.539993  184.429993  181.664673   \n",
      "2018-06-27  185.229996  187.279999  184.029999  184.160004  181.398743   \n",
      "2018-06-28  184.100006  186.210007  183.800003  185.500000  182.718643   \n",
      "2018-06-29  186.289993  187.190002  182.910004  185.110001  182.334488   \n",
      "\n",
      "              Volume  \n",
      "Date                  \n",
      "2018-06-25  31663100  \n",
      "2018-06-26  24569200  \n",
      "2018-06-27  25285300  \n",
      "2018-06-28  17365200  \n",
      "2018-06-29  22737700  \n"
     ]
    }
   ],
   "source": [
    "# 날짜(Date) 열을 Timestamp로 변환하고, 데이터프레임 인덱스로 지정하기\n",
    "apple['Date'] = pd.to_datetime(apple['Date'])\n",
    "apple.set_index('Date', inplace=True)\n",
    "print(apple.head())"
   ]
  },
  {
   "cell_type": "code",
   "execution_count": 36,
   "metadata": {},
   "outputs": [
    {
     "name": "stdout",
     "output_type": "stream",
     "text": [
      "              AdjClose   PriceLag1  PriceDiff  DailyReturn  UpDown\n",
      "Date                                                              \n",
      "2018-06-25  179.438583  181.664673   2.226090     0.012406       1\n",
      "2018-06-26  181.664673  181.398743  -0.265930    -0.001464       0\n",
      "2018-06-27  181.398743  182.718643   1.319900     0.007276       1\n",
      "2018-06-28  182.718643  182.334488  -0.384155    -0.002102       0\n",
      "2018-06-29  182.334488  184.373459   2.038971     0.011183       1\n"
     ]
    }
   ],
   "source": [
    "# 열 추가 - 다음 날 종가 (1일 전 수정 주가)\n",
    "apple['PriceLag1'] = apple['AdjClose'].shift(-1)\n",
    "\n",
    "# 열 추가 - 주가 변동 (오늘 종가 대비 내일 종가: 오늘 주식 홀딩하는 경우, 내일 기대 수익)\n",
    "apple['PriceDiff'] = apple['PriceLag1'] - apple['AdjClose']\n",
    "\n",
    "# 열 추가 - 주가 변동율(%) : 주식 홀딩하는 경우 다음 날 기대 수익률\n",
    "apple['DailyReturn'] = apple['PriceDiff'] / apple['AdjClose']\n",
    "\n",
    "# 열 추가 - 주가 상승은 1로, 주가 하락(또는 보합)은 0으로 지정\n",
    "apple['UpDown'] = [1 if apple['DailyReturn'].loc[date] > 0 else 0 for date in apple.index] \n",
    "\n",
    "# 5개의 열을 선택하여 새로운 데이터프레임으로 저장하기\n",
    "apple_chart_data = apple[['AdjClose', 'PriceLag1', 'PriceDiff', 'DailyReturn', 'UpDown']]\n",
    "print(apple_chart_data.head())"
   ]
  },
  {
   "cell_type": "code",
   "execution_count": 37,
   "metadata": {},
   "outputs": [
    {
     "data": {
      "text/plain": [
       "1    140\n",
       "0    111\n",
       "Name: UpDown, dtype: int64"
      ]
     },
     "execution_count": 37,
     "metadata": {},
     "output_type": "execute_result"
    }
   ],
   "source": [
    "# 주가 상승일, 하락일의 수를 계산하기\n",
    "# 상승 1 , 하락 0\n",
    "apple['UpDown'].value_counts()"
   ]
  },
  {
   "cell_type": "code",
   "execution_count": 38,
   "metadata": {},
   "outputs": [
    {
     "data": {
      "image/png": "[encoded data removed]",
      "text/plain": [
       "<Figure size 864x576 with 1 Axes>"
      ]
     },
     "metadata": {
      "needs_background": "light"
     },
     "output_type": "display_data"
    }
   ],
   "source": [
    "# matplotlib의 plot() 함수를 사용하여 주가 변동율 차트 그리기 \n",
    "plt.figure(figsize=(12,8))\n",
    "plt.plot(apple.index, apple['DailyReturn'], color='lightblue')\n",
    "plt.axhline(y=0, color='red', ls='--')\n",
    "plt.show()"
   ]
  },
  {
   "cell_type": "code",
   "execution_count": 39,
   "metadata": {},
   "outputs": [],
   "source": [
    "#참고 \n",
    "#https://m.blog.naver.com/BlogTagView.nhn?blogId=okkam76&pushNavigation=true&tagName=matplotlib\n",
    "#https://finance.yahoo.com/quote/AAPL?p=AAPL&.tsrc=fin-srch\n",
    "#https://wendys.tistory.com/174\n",
    "#https://wendys.tistory.com/173"
   ]
  },
  {
   "cell_type": "code",
   "execution_count": null,
   "metadata": {},
   "outputs": [],
   "source": []
  }
 ],
 "metadata": {
  "kernelspec": {
   "display_name": "Python 3",
   "language": "python",
   "name": "python3"
  },
  "language_info": {
   "codemirror_mode": {
    "name": "ipython",
    "version": 3
   },
   "file_extension": ".py",
   "mimetype": "text/x-python",
   "name": "python",
   "nbconvert_exporter": "python",
   "pygments_lexer": "ipython3",
   "version": "3.7.6"
  }
 },
 "nbformat": 4,
 "nbformat_minor": 4
}
